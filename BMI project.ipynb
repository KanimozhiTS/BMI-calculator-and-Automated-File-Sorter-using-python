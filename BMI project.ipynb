{
 "cells": [
  {
   "cell_type": "markdown",
   "metadata": {},
   "source": [
    "# BMI Calculator"
   ]
  },
  {
   "cell_type": "code",
   "execution_count": null,
   "metadata": {
    "scrolled": true
   },
   "outputs": [],
   "source": [
    "Name = input('Enter your name: ')\n",
    "\n",
    "Weight = int(input(\"Enter your weight in pounds: \"))\n",
    "\n",
    "Height = int(input(\"Enter your height in inches: \"))\n",
    "\n",
    "BMI = (Weight * 703) / (Height * Height)\n",
    "\n",
    "print(BMI)\n",
    "\n",
    "if (BMI>0):\n",
    "    if(BMI<18.5):\n",
    "        print(Name +',you are underwight.')\n",
    "    elif(BMI<=24.9):\n",
    "        print(Name +',you are normal weight')\n",
    "    elif(BMI<29.9):\n",
    "        print(Name +',you are overweight')\n",
    "    elif(BMI<34.9):\n",
    "        print(Name +',you are obese')\n",
    "    elif(BMI<39.9):\n",
    "        print(Name +',you are severely obese')\n",
    "    else:\n",
    "        print(Name +',you are morbidly obese')    \n",
    "else:\n",
    "    print('Enter valid input')"
   ]
  },
  {
   "cell_type": "code",
   "execution_count": null,
   "metadata": {},
   "outputs": [],
   "source": []
  },
  {
   "cell_type": "code",
   "execution_count": null,
   "metadata": {},
   "outputs": [],
   "source": []
  },
  {
   "cell_type": "code",
   "execution_count": null,
   "metadata": {},
   "outputs": [],
   "source": []
  },
  {
   "cell_type": "code",
   "execution_count": null,
   "metadata": {},
   "outputs": [],
   "source": []
  },
  {
   "cell_type": "code",
   "execution_count": null,
   "metadata": {},
   "outputs": [],
   "source": []
  },
  {
   "cell_type": "code",
   "execution_count": null,
   "metadata": {},
   "outputs": [],
   "source": []
  }
 ],
 "metadata": {
  "kernelspec": {
   "display_name": "Python 3",
   "language": "python",
   "name": "python3"
  },
  "language_info": {
   "codemirror_mode": {
    "name": "ipython",
    "version": 3
   },
   "file_extension": ".py",
   "mimetype": "text/x-python",
   "name": "python",
   "nbconvert_exporter": "python",
   "pygments_lexer": "ipython3",
   "version": "3.7.3"
  }
 },
 "nbformat": 4,
 "nbformat_minor": 2
}
